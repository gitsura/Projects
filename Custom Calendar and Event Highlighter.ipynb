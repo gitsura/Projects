{
 "cells": [
  {
   "cell_type": "code",
   "execution_count": 1,
   "id": "f2568573-26ff-473f-a14b-8f9e0e314602",
   "metadata": {},
   "outputs": [
    {
     "name": "stdout",
     "output_type": "stream",
     "text": [
      "✅ Calendar generated: personalized_calendar.html\n"
     ]
    }
   ],
   "source": [
    "import calendar\n",
    "from datetime import datetime\n",
    "\n",
    "# ========== USER SETTINGS ==========\n",
    "year = 2025\n",
    "month = 8\n",
    "username = \"Varsha\"\n",
    "events = {\n",
    "    \"2025-08-15\": \"Independence Day 🇮🇳\",\n",
    "    \"2025-08-20\": \"Friend's Birthday 🎂\",\n",
    "    \"2025-08-25\": \"Meeting at 10 AM 📅\"\n",
    "}\n",
    "# ====================================\n",
    "\n",
    "cal = calendar.Calendar(firstweekday=6)  # Start with Sunday\n",
    "\n",
    "# HTML template\n",
    "html_head = f\"\"\"\n",
    "<!DOCTYPE html>\n",
    "<html>\n",
    "<head>\n",
    "<meta charset=\"UTF-8\">\n",
    "<title>{username}'s Personalized Calendar - {calendar.month_name[month]} {year}</title>\n",
    "<style>\n",
    "  body {{ font-family: Arial, sans-serif; background: #f0f0f0; }}\n",
    "  h1 {{ text-align: center; color: #333; }}\n",
    "  table {{ border-collapse: collapse; margin: auto; background: white; }}\n",
    "  th, td {{ border: 1px solid #999; padding: 10px; width: 100px; height: 80px; vertical-align: top; }}\n",
    "  th {{ background: #4CAF50; color: white; }}\n",
    "  .event {{ background: #ffecb3; border-radius: 5px; padding: 3px; margin-top: 5px; font-size: 12px; }}\n",
    "  .today {{ background: #a5d6a7; }}\n",
    "</style>\n",
    "</head>\n",
    "<body>\n",
    "<h1>{username}'s Calendar - {calendar.month_name[month]} {year}</h1>\n",
    "<table>\n",
    "<tr>\n",
    "  <th>Sun</th>\n",
    "  <th>Mon</th>\n",
    "  <th>Tue</th>\n",
    "  <th>Wed</th>\n",
    "  <th>Thu</th>\n",
    "  <th>Fri</th>\n",
    "  <th>Sat</th>\n",
    "</tr>\n",
    "\"\"\"\n",
    "\n",
    "html_body = \"\"\n",
    "month_days = cal.monthdayscalendar(year, month)\n",
    "today_str = datetime.now().strftime(\"%Y-%m-%d\")\n",
    "\n",
    "for week in month_days:\n",
    "    html_body += \"<tr>\"\n",
    "    for day in week:\n",
    "        if day == 0:\n",
    "            html_body += \"<td></td>\"\n",
    "        else:\n",
    "            date_str = f\"{year}-{month:02d}-{day:02d}\"\n",
    "            css_class = \"today\" if date_str == today_str else \"\"\n",
    "            cell_content = f\"<strong>{day}</strong>\"\n",
    "            if date_str in events:\n",
    "                cell_content += f\"<div class='event'>{events[date_str]}</div>\"\n",
    "            html_body += f\"<td class='{css_class}'>{cell_content}</td>\"\n",
    "    html_body += \"</tr>\"\n",
    "\n",
    "html_footer = \"\"\"\n",
    "</table>\n",
    "</body>\n",
    "</html>\n",
    "\"\"\"\n",
    "\n",
    "# Save HTML file\n",
    "output_file = \"personalized_calendar.html\"\n",
    "with open(output_file, \"w\", encoding=\"utf-8\") as f:\n",
    "    f.write(html_head + html_body + html_footer)\n",
    "\n",
    "print(f\"✅ Calendar generated: {output_file}\")\n"
   ]
  },
  {
   "cell_type": "code",
   "execution_count": null,
   "id": "a0ef94ef-ab3c-41ec-bf8b-a17c935e24ca",
   "metadata": {},
   "outputs": [],
   "source": []
  }
 ],
 "metadata": {
  "kernelspec": {
   "display_name": "Python 3 (ipykernel)",
   "language": "python",
   "name": "python3"
  },
  "language_info": {
   "codemirror_mode": {
    "name": "ipython",
    "version": 3
   },
   "file_extension": ".py",
   "mimetype": "text/x-python",
   "name": "python",
   "nbconvert_exporter": "python",
   "pygments_lexer": "ipython3",
   "version": "3.13.5"
  }
 },
 "nbformat": 4,
 "nbformat_minor": 5
}
